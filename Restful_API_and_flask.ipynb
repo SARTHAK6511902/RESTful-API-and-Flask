{
  "nbformat": 4,
  "nbformat_minor": 0,
  "metadata": {
    "colab": {
      "provenance": []
    },
    "kernelspec": {
      "name": "python3",
      "display_name": "Python 3"
    },
    "language_info": {
      "name": "python"
    }
  },
  "cells": [
    {
      "cell_type": "markdown",
      "source": [
        "#Theoritical questions"
      ],
      "metadata": {
        "id": "ZYHYxdmjQp_E"
      }
    },
    {
      "cell_type": "markdown",
      "source": [
        "1.What is a RESTful API?\n",
        "\n",
        "-> A RESTful API is an Application Programming Interface (API) that follows the principles of REST (Representational State Transfer) — an architectural style for designing networked applications. REST is commonly used for web services because it is lightweight, stateless, and easy to scale."
      ],
      "metadata": {
        "id": "dkXLwvGYQvaC"
      }
    },
    {
      "cell_type": "markdown",
      "source": [
        "2.  Explain the concept of API specification.\n",
        "\n",
        "-> An API specification is a detailed, structured description of how an API works and how clients can interact with it.\n",
        "It acts like a blueprint or contract between the API provider (server) and the API consumer (client).\n",
        "\n",
        "Instead of being actual code, it’s a document (often machine-readable) that defines:\n",
        "\n",
        "The available endpoints (URLs/resources)\n",
        "\n",
        "The operations (HTTP methods like GET, POST, PUT, DELETE)"
      ],
      "metadata": {
        "id": "-lVGKtbPRQ37"
      }
    },
    {
      "cell_type": "markdown",
      "source": [
        "3.  What is Flask, and why is it popular for building APIs?\n",
        "\n",
        "-> Flask is a lightweight, open-source web framework for Python.\n",
        "It is classified as a microframework because it provides only the core functionality for web development — routing, request handling, and a development server — without enforcing extra tools or libraries.\n",
        "            Flask has become one of the most widely used Python frameworks for building RESTful APIs because of its:\n",
        "\n",
        "i. Simplicity & Minimalism\n",
        "ii. Flexibility\n",
        "iii. Large ecosystem of extension\n",
        "iv. Integration with python libraries\n",
        "v. Lightweight but scalable"
      ],
      "metadata": {
        "id": "rlU1nL-HSal9"
      }
    },
    {
      "cell_type": "markdown",
      "source": [
        "4.  What is routing in Flask?\n",
        "\n",
        "-> In Flask, routing is the process of mapping URLs (routes) to specific functions in your application.\n",
        "\n",
        "When a client (like a browser or mobile app) makes a request to a certain URL, Flask checks if there’s a route defined for it and then executes the corresponding function (called a view function)."
      ],
      "metadata": {
        "id": "MQLY4YZ1VWvK"
      }
    },
    {
      "cell_type": "markdown",
      "source": [
        "5. How do you create a simple Flask application?\n",
        "\n",
        "-> The steps to create a simple flask application are :\n",
        "\n",
        "i. Install flask\n",
        "\n",
        "ii. Create a python file\n",
        "\n",
        "iii. Run the flask app\n",
        "\n",
        "iv. Test in the browser"
      ],
      "metadata": {
        "id": "34QCz30gV1wC"
      }
    },
    {
      "cell_type": "markdown",
      "source": [
        "6.  What are HTTP methods used in RESTful APIs?\n",
        "\n",
        "-> In a RESTful API, the main idea is that you treat everything as a resource (like users, posts, products), and you perform operations on those resources using standard HTTP methods.\n",
        "\n",
        "Here are the commonly used methods: GET, POST , PUT , PATCH , DELETE.\n"
      ],
      "metadata": {
        "id": "gUy_nAo1WoWI"
      }
    },
    {
      "cell_type": "markdown",
      "source": [
        "7. What is the purpose of the @app.route() decorator in Flask?\n",
        "\n",
        "-> In Flask, the @app.route() decorator is used to bind a URL (route) to a Python function (called a view function).\n",
        "\n",
        "When a client (like a browser or mobile app) sends a request to that URL, Flask calls the function associated with it and returns the response."
      ],
      "metadata": {
        "id": "BhBe1sqeYutJ"
      }
    },
    {
      "cell_type": "markdown",
      "source": [
        "8.  What is the difference between GET and POST HTTP methods?\n",
        "\n",
        "-> i. Purpose\n",
        "\n",
        "GET → Used to retrieve data from the server.\n",
        "\n",
        "POST → Used to send data to the server (e.g., submitting a form, uploading a file).\n",
        "\n",
        "ii. Data Transmission\n",
        "\n",
        "GET → Data is sent in the URL as query parameters (e.g., example.com/search?query=python).\n",
        "\n",
        "POST → Data is sent in the request body, not in the URL.\n",
        "\n",
        "iii. Visibility & Security\n",
        "\n",
        "GET → Data is visible in the URL → less secure (not suitable for sensitive data like passwords).\n",
        "\n",
        "POST → Data is hidden in the body → more secure than GET, but still needs HTTPS for true protection.\n",
        "\n",
        "iv. Idempotency\n",
        "\n",
        "GET → Idempotent: Multiple identical requests give the same result and don’t change server state.\n",
        "\n",
        "POST → Not idempotent: Each request may create/update data (e.g., creating multiple accounts if repeated).\n",
        "\n",
        "v. Caching\n",
        "\n",
        "GET → Can be cached and bookmarked (since data is in the URL).\n",
        "\n",
        "POST → Generally not cached and cannot be bookmarked."
      ],
      "metadata": {
        "id": "CRcFZS2ZZq3x"
      }
    },
    {
      "cell_type": "markdown",
      "source": [
        "9. How do you handle errors in Flask APIs?\n",
        "\n",
        "-> Ways to Handle Errors in Flask APIs\n",
        "i. Using try-except blocks\n",
        "\n",
        "ii. Using @app.errorhandler()\n",
        "\n",
        "iii. Raising HTTPException with abort()\n",
        "\n",
        "iv. Custom Exception Classes\n",
        "\n"
      ],
      "metadata": {
        "id": "yYqID8KMgY5V"
      }
    },
    {
      "cell_type": "markdown",
      "source": [
        "10.  How do you connect Flask to a SQL database?\n",
        "\n",
        "->"
      ],
      "metadata": {
        "id": "j_D2sYdDiMa1"
      }
    },
    {
      "cell_type": "markdown",
      "source": [
        "11.What is the role of Flask-SQLAlchemy?\n",
        "\n",
        "-> Flask-SQLAlchemy is an extension for Flask that makes it easier to work with SQLAlchemy, a popular Object Relational Mapper (ORM) for Python.\n",
        "\n",
        "Its main role is to provide a clean, Flask-friendly way of integrating SQLAlchemy into your application. Instead of writing raw SQL queries, you can interact with the database using Python classes and objects."
      ],
      "metadata": {
        "id": "2pKY_n4f60jJ"
      }
    },
    {
      "cell_type": "markdown",
      "source": [
        "12.  What are Flask blueprints, and how are they useful?\n",
        "\n",
        "-> A Blueprint in Flask is a way to organize a Flask application into modular and reusable components.\n",
        "Think of it as a \"mini-application\" within your main app — with its own routes, templates, static files, and logic — that can be registered on the main Flask app when needed.\n",
        "\n",
        "Blueprints are useful because of modularity, reusability, collaboration-friendly, Scalability, URL organization"
      ],
      "metadata": {
        "id": "DNmmdaPT73qD"
      }
    },
    {
      "cell_type": "markdown",
      "source": [
        "13.  What is the purpose of Flask's request object?\n",
        "\n",
        "-> The request object in Flask represents the HTTP request that a client (like a browser, mobile app, or API consumer) sends to your Flask application.\n",
        "\n",
        "It gives us access to all the details of the incoming request, such as data, headers, method, cookies, files, and more.\n",
        "\n",
        "The purpose of flask's request object are accessing request data, checking request method, reading request headers, handling file uploads, accessing cookies and sessions, getting client information."
      ],
      "metadata": {
        "id": "qh6mQ7Ig-eiU"
      }
    },
    {
      "cell_type": "markdown",
      "source": [
        "14.  How do you create a RESTful API endpoint using Flask?\n",
        "\n",
        "-> Steps to create a aRESTful API endpoint using flask are:\n",
        "   \n",
        "   i. Set up flask\n",
        "   ii. Create sample data (like a DB)\n",
        "   iii. Define RESTful endpoints\n",
        "   iv. Run the flask app"
      ],
      "metadata": {
        "id": "6vUYjruk_8Ui"
      }
    },
    {
      "cell_type": "markdown",
      "source": [
        "15. What is the purpose of Flask's jsonify() function?\n",
        "\n",
        "-> i. Converts python objects to JSON\n",
        "\n",
        "  ii. Sets correct MIME type\n",
        "\n",
        "  iii. Handles unicode and special characters\n",
        "\n",
        "  iv. Supports multiple arguments"
      ],
      "metadata": {
        "id": "aDM8bGohCLZ6"
      }
    },
    {
      "cell_type": "markdown",
      "source": [
        "16.  Explain Flask’s url_for() function.\n",
        "\n",
        "-> The url_for() function is used to generate URLs dynamically for routes in a Flask app.\n",
        "\n",
        "Instead of hardcoding URLs into your templates or code, you use url_for(), which looks up the route by its function name and builds the correct URL.\n",
        "\n",
        "It’s useful because:\n",
        "\n",
        "i.Avoids Hardcoding URLs\n",
        "\n",
        "If you later change the route path, you don’t have to update every reference manually.\n",
        "\n",
        "Example: If you change /profile → /user/profile, url_for() will still work.\n",
        "\n",
        "ii. Dynamic URL Generation\n",
        "\n",
        "Handles URL parameters (like user IDs) automatically.\n",
        "\n",
        "iii. More Reliable\n",
        "\n",
        "Keeps links consistent across the application.\n",
        "\n",
        "Works well with blueprints and URL prefixes."
      ],
      "metadata": {
        "id": "KgL3YJriIKip"
      }
    },
    {
      "cell_type": "markdown",
      "source": [
        "17.  How does Flask handle static files (CSS, JavaScript, etc.) ?\n",
        "\n",
        "-> i. Default static/ Folder\n",
        "\n",
        "By default, Flask automatically looks for a folder named static/ in your project directory.\n",
        "\n",
        "Any files placed there can be served directly via the URL path /static/filename.\n",
        "\n",
        " ii. Using url_for() in Templates\n",
        "\n",
        "Instead of hardcoding /static/..., Flask recommends using url_for() so paths don’t break if configurations change."
      ],
      "metadata": {
        "id": "E_QFkPsyK30a"
      }
    },
    {
      "cell_type": "markdown",
      "source": [
        "18.  What is an API specification, and how does it help in building a Flask API?\n",
        "\n",
        "-> An API specification is a detailed blueprint that describes how an API works.\n",
        "It defines the endpoints, request methods, input parameters, authentication, and response formats in a standardized way.\n",
        "\n",
        "Think of it as a contract between the API provider (you, building with Flask) and the API consumers (frontend apps, mobile apps, other developers)."
      ],
      "metadata": {
        "id": "FrHMHg7-NORe"
      }
    },
    {
      "cell_type": "markdown",
      "source": [
        "19.  What are HTTP status codes, and why are they important in a Flask API?\n",
        "\n",
        "-> HTTP status codes are 3-digit numbers returned by a web server (or Flask app) in response to an HTTP request.\n",
        "They tell the client (browser, mobile app, or another API) whether the request succeeded, failed, or needs more action."
      ],
      "metadata": {
        "id": "8zqieFflNdbJ"
      }
    },
    {
      "cell_type": "markdown",
      "source": [
        "20.  How do you handle POST requests in Flask?\n",
        "\n",
        "-> A POST request is used to send data to the server (e.g., submitting a form, creating a new record in a database, uploading a file).\n",
        "\n",
        "In Flask, you handle POST requests by:\n",
        "\n",
        "Defining a route with methods=['POST'] (or ['GET', 'POST'] if it supports both).\n",
        "\n",
        "Accessing request data using Flask’s request object (form, json, files, etc.).\n",
        "\n",
        "Returning a response, usually JSON or a redirect."
      ],
      "metadata": {
        "id": "6sQt4rF0NzBg"
      }
    },
    {
      "cell_type": "markdown",
      "source": [
        "21.  How would you secure a Flask API?\n",
        "\n",
        "-> We can secure a Flask API by using HTTPS, authentication, authorization, input validation, rate limiting , etc."
      ],
      "metadata": {
        "id": "JRkpLXbzRugf"
      }
    },
    {
      "cell_type": "markdown",
      "source": [
        "22.  What is the significance of the Flask-RESTful extension?\n",
        "\n",
        "-> Flask-RESTful is an extension for Flask that simplifies the creation of RESTful APIs.\n",
        "It provides tools and abstractions that help you build APIs in a more structured, organized, and Pythonic way."
      ],
      "metadata": {
        "id": "QD__iuYPSwOA"
      }
    },
    {
      "cell_type": "markdown",
      "source": [
        "23.  What is the role of Flask’s session object?\n",
        "\n",
        "->  i. **Store User-Specific Data**\n",
        "\n",
        "Useful for things like:\n",
        "\n",
        "Logged-in user ID\n",
        "\n",
        "Shopping cart items\n",
        "\n",
        "User preferences\n",
        "\n",
        "ii. **Persist Data Across Requests**\n",
        "\n",
        "Unlike local variables in routes, session data persists between HTTP requests for a user.\n",
        "\n",
        "iii. **Secure Data Storage**\n",
        "\n",
        "Data is signed to prevent modification.\n",
        "\n",
        "Do not store sensitive data (like passwords) in sessions.\n",
        "\n",
        "iv. **Works Like a Dictionary**"
      ],
      "metadata": {
        "id": "95PfjvHyTRPA"
      }
    },
    {
      "cell_type": "markdown",
      "source": [
        "# Practical Questions"
      ],
      "metadata": {
        "id": "JCmRcqVoT_Px"
      }
    },
    {
      "cell_type": "markdown",
      "source": [
        "1.  How do you create a basic Flask application?"
      ],
      "metadata": {
        "id": "uNoFyAZLUXj8"
      }
    },
    {
      "cell_type": "code",
      "execution_count": null,
      "metadata": {
        "id": "izMqBoiqQbCW"
      },
      "outputs": [],
      "source": []
    }
  ]
}